{
 "cells": [
  {
   "cell_type": "code",
   "execution_count": 151,
   "metadata": {},
   "outputs": [
    {
     "data": {
      "text/plain": [
       "True"
      ]
     },
     "execution_count": 151,
     "metadata": {},
     "output_type": "execute_result"
    }
   ],
   "source": [
    "from dotenv import load_dotenv\n",
    "from langchain_community.utilities import SQLDatabase\n",
    "from langchain_groq import ChatGroq\n",
    "from langchain_community.chat_models import ChatOllama\n",
    "import os\n",
    "load_dotenv()"
   ]
  },
  {
   "cell_type": "markdown",
   "metadata": {},
   "source": [
    "# Connect To Database"
   ]
  },
  {
   "cell_type": "code",
   "execution_count": 152,
   "metadata": {},
   "outputs": [
    {
     "name": "stdout",
     "output_type": "stream",
     "text": [
      "mysql\n",
      "Get All Tables:['auth_group', 'auth_group_permissions', 'auth_permission', 'django_admin_log', 'django_celery_beat_clockedschedule', 'django_celery_beat_crontabschedule', 'django_celery_beat_intervalschedule', 'django_celery_beat_periodictask', 'django_celery_beat_periodictasks', 'django_celery_beat_solarschedule', 'django_content_type', 'django_cron_cronjoblock', 'django_cron_cronjoblog', 'django_migrations', 'django_session', 'farmers_cerealpreferencecompletion', 'farmers_cerealspop', 'farmers_cerealspop_fk_product', 'farmers_cerealstagecompletion', 'farmers_commentreply', 'farmers_communitypost', 'farmers_cropimages', 'farmers_cropmapper', 'farmers_cropmaster', 'farmers_cropvariety', 'farmers_currentnews', 'farmers_disease_images_master', 'farmers_disease_images_master_fk_disease', 'farmers_diseasemaster', 'farmers_diseaseproductinfo', 'farmers_diseaseproductinfo_fk_product', 'farmers_diseasetranslation', 'farmers_diseasevideo', 'farmers_districtmaster', 'farmers_farmerlandaddress', 'farmers_farmerprofile', 'farmers_fertilizer', 'farmers_fruitspop', 'farmers_fruitspop_fk_product', 'farmers_fruitsstagecompletion', 'farmers_govtschemes', 'farmers_languageselection', 'farmers_otpverification', 'farmers_popmapper', 'farmers_poptypes', 'farmers_popweathercondition', 'farmers_postcomments', 'farmers_postslike', 'farmers_postsmedia', 'farmers_seasonmapper', 'farmers_seasonmaster', 'farmers_service_provider', 'farmers_soilcharges', 'farmers_soilcharges_fk_providername', 'farmers_spicespop', 'farmers_spicespop_fk_product', 'farmers_spicespreferencecompletion', 'farmers_spicestagecompletion', 'farmers_statemaster', 'farmers_suggestedcrop', 'farmers_upload_disease', 'farmers_usercommentonshop', 'farmers_vegetablepop', 'farmers_vegetablepop_fk_product', 'farmers_vegetablepreferencecompletion', 'farmers_vegetablestagecompletion', 'farmers_weatherpopnotification', 'farmers_weatherpopnotification_fk_weather_condition', 'fponsuppliers_bankbusinessdetails', 'fponsuppliers_customerdetails', 'fponsuppliers_customuser', 'fponsuppliers_customuser_groups', 'fponsuppliers_customuser_user_permissions', 'fponsuppliers_fpo', 'fponsuppliers_fpoproducts', 'fponsuppliers_fposuppliers', 'fponsuppliers_inputsuppliers', 'fponsuppliers_inventorydetails', 'fponsuppliers_productdetails', 'fponsuppliers_productdetails_fk_supplier', 'fponsuppliers_productimagesmaster', 'fponsuppliers_productmeasurements', 'fponsuppliers_productmeasurementtype', 'fponsuppliers_productprices', 'fponsuppliers_productsale', 'fponsuppliers_producttype', 'fponsuppliers_productvariantsmaster', 'fponsuppliers_salesrecorditem', 'fponsuppliers_shopdetails', 'fponsuppliers_supplier', 'fponsuppliers_supplierproducts', 'token_blacklist_blacklistedtoken', 'token_blacklist_outstandingtoken']\n"
     ]
    }
   ],
   "source": [
    "user = os.getenv(\"DB_USER\")\n",
    "password = os.getenv(\"DB_PASSWORD\")\n",
    "host = os.getenv(\"DB_HOST\")\n",
    "port = os.getenv(\"DB_PORT\")\n",
    "database = os.getenv(\"DB_NAME\")\n",
    "db_url=f\"mysql+mysqlconnector://{user}:{password}@{host}:{port}/{database}\"\n",
    "db = SQLDatabase.from_uri(db_url)\n",
    "print(db.dialect)\n",
    "print(f\"Get All Tables:{db.get_usable_table_names()}\")\n",
    "\n",
    "def get_schema(_):\n",
    "    return db.get_table_info()\n",
    "\n"
   ]
  },
  {
   "cell_type": "markdown",
   "metadata": {},
   "source": [
    "# Get all DatabaseNames"
   ]
  },
  {
   "cell_type": "code",
   "execution_count": 153,
   "metadata": {},
   "outputs": [
    {
     "name": "stdout",
     "output_type": "stream",
     "text": [
      "Available Databases:\n",
      "agrisarathi\n",
      "information_schema\n",
      "mysql\n",
      "performance_schema\n",
      "sys\n"
     ]
    },
    {
     "data": {
      "text/plain": [
       "[('agrisarathi',),\n",
       " ('information_schema',),\n",
       " ('mysql',),\n",
       " ('performance_schema',),\n",
       " ('sys',)]"
      ]
     },
     "execution_count": 153,
     "metadata": {},
     "output_type": "execute_result"
    }
   ],
   "source": [
    "import mysql.connector\n",
    "from mysql.connector import Error\n",
    "def get_database_names(host: str, user: str, password: str, port: str):\n",
    "    try:\n",
    "        # Establish connection to the MySQL server\n",
    "        connection = mysql.connector.connect(\n",
    "            host=host,\n",
    "            user=user,\n",
    "            password=password,\n",
    "            port=port\n",
    "        )\n",
    "        \n",
    "        if connection.is_connected():\n",
    "            cursor = connection.cursor()\n",
    "            cursor.execute(\"SHOW DATABASES\")  \n",
    "            \n",
    "            # Fetch all database names\n",
    "            databases = cursor.fetchall()\n",
    "            \n",
    "            print(\"Available Databases:\")\n",
    "            for db in databases:\n",
    "                print(db[0])  \n",
    "                \n",
    "            return databases\n",
    "            \n",
    "    except Error as e:\n",
    "        print(f\"Error: {str(e)}\")\n",
    "    finally:\n",
    "        if connection.is_connected():\n",
    "            cursor.close()\n",
    "            connection.close()\n",
    "            \n",
    "get_database_names(host, user, password, port)"
   ]
  },
  {
   "cell_type": "markdown",
   "metadata": {},
   "source": [
    "# Run Query"
   ]
  },
  {
   "cell_type": "code",
   "execution_count": 113,
   "metadata": {},
   "outputs": [
    {
     "data": {
      "text/plain": [
       "\"[(4, 'ANDHRA PRADESH', datetime.datetime(2024, 9, 4, 6, 55, 26, 170360), datetime.datetime(2024, 9, 4, 6, 55, 26, 170415), 0, 'आंध्र प्रदेश'), (5, 'ARUNACHAL PRADESH', datetime.datetime(2024, 9, 4, 6, 55, 26, 175800), datetime.datetime(2024, 9, 4, 6, 55, 26, 175826), 0, 'अरुणाचल प्रदेश'), (6, 'ASSAM', datetime.datetime(2024, 9, 4, 6, 55, 26, 178301), datetime.datetime(2024, 9, 4, 6, 55, 26, 178327), 0, 'असम'), (7, 'BIHAR', datetime.datetime(2024, 9, 4, 6, 55, 26, 180307), datetime.datetime(2024, 9, 4, 6, 55, 26, 180336), 0, 'बिहार'), (8, 'CHANDIGARH', datetime.datetime(2024, 9, 4, 6, 55, 26, 185713), datetime.datetime(2024, 9, 4, 6, 55, 26, 185757), 0, 'चंडीगढ़'), (9, 'CHHATTISGARH', datetime.datetime(2024, 9, 4, 6, 55, 26, 189291), datetime.datetime(2024, 9, 4, 6, 55, 26, 189322), 0, 'छत्तीसगढ'), (10, 'DADRA & NAGAR HAVELI', datetime.datetime(2024, 9, 4, 6, 55, 26, 191649), datetime.datetime(2024, 9, 4, 6, 55, 26, 191676), 0, 'दादरा एवं नगर हवेली'), (11, 'DAMAN AND DIU', datetime.datetime(2024, 9, 4, 6, 55, 26, 193939), datetime.datetime(2024, 9, 4, 6, 55, 26, 193963), 0, 'दमन और दीव'), (12, 'GOA', datetime.datetime(2024, 9, 4, 6, 55, 26, 195990), datetime.datetime(2024, 9, 4, 6, 55, 26, 196014), 0, 'गोवा'), (13, 'GUJARAT', datetime.datetime(2024, 9, 4, 6, 55, 26, 198133), datetime.datetime(2024, 9, 4, 6, 55, 26, 198187), 0, 'गुजरात'), (14, 'HARYANA', datetime.datetime(2024, 9, 4, 6, 55, 26, 200582), datetime.datetime(2024, 9, 4, 6, 55, 26, 200632), 0, 'हरयाणा'), (15, 'HIMACHAL PRADESH', datetime.datetime(2024, 9, 4, 6, 55, 26, 203692), datetime.datetime(2024, 9, 4, 6, 55, 26, 203727), 0, 'हिमाचल प्रदेश'), (16, 'JAMMU AND KASHMIR', datetime.datetime(2024, 9, 4, 6, 55, 26, 206828), datetime.datetime(2024, 9, 4, 6, 55, 26, 206864), 0, 'जम्मू और कश्मीर'), (17, 'JHARKHAND', datetime.datetime(2024, 9, 4, 6, 55, 26, 209432), datetime.datetime(2024, 9, 4, 6, 55, 26, 209462), 0, 'झारखंड'), (18, 'KARNATAKA', datetime.datetime(2024, 9, 4, 6, 55, 26, 213139), datetime.datetime(2024, 9, 4, 6, 55, 26, 213164), 0, 'कर्नाटक'), (19, 'KERALA', datetime.datetime(2024, 9, 4, 6, 55, 26, 216286), datetime.datetime(2024, 9, 4, 6, 55, 26, 216326), 0, 'केरल'), (20, 'LAKSHADWEEP', datetime.datetime(2024, 9, 4, 6, 55, 26, 218992), datetime.datetime(2024, 9, 4, 6, 55, 26, 219021), 0, 'लक्षद्वीप'), (21, 'MADHYA PRADESH', datetime.datetime(2024, 9, 4, 6, 55, 26, 221032), datetime.datetime(2024, 9, 4, 6, 55, 26, 221056), 0, 'मध्य प्रदेश'), (22, 'MAHARASHTRA', datetime.datetime(2024, 9, 4, 6, 55, 26, 223582), datetime.datetime(2024, 9, 4, 6, 55, 26, 223636), 0, 'महाराष्ट्र'), (23, 'MANIPUR', datetime.datetime(2024, 9, 4, 6, 55, 26, 226157), datetime.datetime(2024, 9, 4, 6, 55, 26, 226194), 0, 'मणिपुर'), (24, 'MEGHALAYA', datetime.datetime(2024, 9, 4, 6, 55, 26, 228393), datetime.datetime(2024, 9, 4, 6, 55, 26, 228417), 0, 'मेघालय'), (25, 'MIZORAM', datetime.datetime(2024, 9, 4, 6, 55, 26, 230363), datetime.datetime(2024, 9, 4, 6, 55, 26, 230386), 0, 'मिजोरम'), (26, 'NAGALAND', datetime.datetime(2024, 9, 4, 6, 55, 26, 232047), datetime.datetime(2024, 9, 4, 6, 55, 26, 232072), 0, 'नगालैंड'), (27, 'NCT OF DELHI', datetime.datetime(2024, 9, 4, 6, 55, 26, 234260), datetime.datetime(2024, 9, 4, 6, 55, 26, 234282), 0, 'राष्ट्रीय राजधानी क्षेत्र दिल्ली'), (28, 'ODISHA', datetime.datetime(2024, 9, 4, 6, 55, 26, 235930), datetime.datetime(2024, 9, 4, 6, 55, 26, 235951), 0, 'ओडिशा'), (29, 'PUDUCHERRY', datetime.datetime(2024, 9, 4, 6, 55, 26, 238975), datetime.datetime(2024, 9, 4, 6, 55, 26, 239000), 0, 'पुदुचेरी'), (30, 'PUNJAB', datetime.datetime(2024, 9, 4, 6, 55, 26, 241223), datetime.datetime(2024, 9, 4, 6, 55, 26, 241259), 0, 'पंजाब'), (31, 'RAJASTHAN', datetime.datetime(2024, 9, 4, 6, 55, 26, 243860), datetime.datetime(2024, 9, 4, 6, 55, 26, 243899), 0, 'राजस्थान'), (32, 'SIKKIM', datetime.datetime(2024, 9, 4, 6, 55, 26, 245949), datetime.datetime(2024, 9, 4, 6, 55, 26, 245972), 0, 'सिक्किम'), (33, 'TAMIL NADU', datetime.datetime(2024, 9, 4, 6, 55, 26, 248379), datetime.datetime(2024, 9, 4, 6, 55, 26, 248422), 0, 'तमिलनाडु'), (34, 'TELANGANA', datetime.datetime(2024, 9, 4, 6, 55, 26, 250863), datetime.datetime(2024, 9, 4, 6, 55, 26, 250903), 0, 'तेलंगाना'), (35, 'TRIPURA', datetime.datetime(2024, 9, 4, 6, 55, 26, 252630), datetime.datetime(2024, 9, 4, 6, 55, 26, 252650), 0, 'त्रिपुरा'), (36, 'UTTAR PRADESH', datetime.datetime(2024, 9, 4, 6, 55, 26, 255346), datetime.datetime(2024, 9, 4, 6, 55, 26, 255406), 0, 'उतार प्रदेश'), (37, 'UTTARAKHAND', datetime.datetime(2024, 9, 4, 6, 55, 26, 257854), datetime.datetime(2024, 9, 4, 6, 55, 26, 257874), 0, 'उत्तराखंड'), (38, 'WEST BENGAL', datetime.datetime(2024, 9, 4, 6, 55, 26, 259785), datetime.datetime(2024, 9, 4, 6, 55, 26, 259806), 0, 'पश्चिम बंगाल')]\""
      ]
     },
     "execution_count": 113,
     "metadata": {},
     "output_type": "execute_result"
    }
   ],
   "source": [
    "db.run(\"SELECT * FROM farmers_statemaster;\")"
   ]
  },
  {
   "cell_type": "markdown",
   "metadata": {},
   "source": [
    "# Query Processing (To Get Sql Query)"
   ]
  },
  {
   "cell_type": "code",
   "execution_count": 150,
   "metadata": {},
   "outputs": [
    {
     "data": {
      "text/plain": [
       "'SELECT id, first_name, last_name FROM fpoonsupplier_fpo WHERE is_part_of_fpo = True AND farmer_id IN ( SELECT id FROM farmers_profile )'"
      ]
     },
     "execution_count": 150,
     "metadata": {},
     "output_type": "execute_result"
    }
   ],
   "source": [
    "from langchain_community.agent_toolkits.sql.toolkit import SQLDatabaseToolkit\n",
    "from langchain_community.chat_models import ChatOllama\n",
    "from langchain.chains import create_sql_query_chain\n",
    "ollama_llm=\"llama3.1:8b\"\n",
    "llm = ChatOllama(model=ollama_llm)\n",
    "agent_executor = create_sql_query_chain(llm, db) # Uses defalut langchain prompt\n",
    "res=agent_executor.invoke({\"question\":\"Give me list of farmers_profile that are part of fpo in fponsupplier_fpo\"})\n",
    "res"
   ]
  },
  {
   "cell_type": "markdown",
   "metadata": {},
   "source": [
    "# Execute Sql Query"
   ]
  },
  {
   "cell_type": "code",
   "execution_count": 147,
   "metadata": {},
   "outputs": [
    {
     "data": {
      "text/plain": [
       "\"Error: (mysql.connector.errors.ProgrammingError) 1146 (42S02): Table 'agrisarathi.farmers_profile' doesn't exist\\n[SQL: SELECT * FROM farmers_profile WHERE mobile = '6003093159']\\n(Background on this error at: https://sqlalche.me/e/20/f405)\""
      ]
     },
     "execution_count": 147,
     "metadata": {},
     "output_type": "execute_result"
    }
   ],
   "source": [
    "from langchain_community.tools.sql_database.tool import QuerySQLDataBaseTool\n",
    "execute_query = QuerySQLDataBaseTool(db=db,llm=llm)\n",
    "execute_query.invoke(res)"
   ]
  },
  {
   "cell_type": "code",
   "execution_count": 148,
   "metadata": {},
   "outputs": [
    {
     "data": {
      "text/plain": [
       "'Based on the SQL result, it appears that there is only one user with mobile number \"6003093159\" in the farmers_profile. \\n\\nHere are the details of this user:\\n\\n* Unique ID (78)\\n* Auth Token (!RqMeKugEZjKFfKMZr9IUGSMomeCnjlwdybqIwxpk)\\n* Admin status: No (None)\\n* Profile picture URL: None\\n* Mobile number: 6003093159\\n* User type: Farmer\\n* Has profile picture: Yes (1), but no image provided.\\n* Is online: No (0)\\n* Is active: No (0)\\n* Has email verified: No (0)\\n* Last seen datetime: September 10, 2024, at 12:26:52 PM\\n* Last online datetime: September 10, 2024, at 12:27:47 PM\\n* Number of notifications: 0\\n\\nIt seems that this user has not verified their email address and is currently offline.'"
      ]
     },
     "execution_count": 148,
     "metadata": {},
     "output_type": "execute_result"
    }
   ],
   "source": [
    "from operator import itemgetter\n",
    "from langchain_core.output_parsers import StrOutputParser\n",
    "from langchain_core.prompts import PromptTemplate\n",
    "from langchain_core.runnables import RunnablePassthrough\n",
    "\n",
    "answer_prompt = PromptTemplate.from_template(\n",
    "     \"\"\"Given the following user question, corresponding SQL query, and SQL result, answer the user question.\n",
    "\n",
    " Question: {question}\n",
    " SQL Query: {query}\n",
    " SQL Result: {result}\n",
    " Answer: \"\"\"\n",
    " )\n",
    "\n",
    "rephrase_answer = answer_prompt | llm | StrOutputParser() ## Prompt goes to llm i.e AI meesage then that message \n",
    "\n",
    "chain = (\n",
    "     RunnablePassthrough.assign(query=agent_executor).assign(\n",
    "         result=itemgetter(\"query\") | execute_query\n",
    "     )\n",
    "     | rephrase_answer\n",
    " )\n",
    "\n",
    "chain.invoke({\"question\": \"Give me of all the details of user with mobile 6003093159  in farmers_profile\"})\n"
   ]
  }
 ],
 "metadata": {
  "kernelspec": {
   "display_name": "env",
   "language": "python",
   "name": "python3"
  },
  "language_info": {
   "codemirror_mode": {
    "name": "ipython",
    "version": 3
   },
   "file_extension": ".py",
   "mimetype": "text/x-python",
   "name": "python",
   "nbconvert_exporter": "python",
   "pygments_lexer": "ipython3",
   "version": "3.10.12"
  }
 },
 "nbformat": 4,
 "nbformat_minor": 2
}
